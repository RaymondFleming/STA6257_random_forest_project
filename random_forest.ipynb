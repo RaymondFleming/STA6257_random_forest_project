{
 "cells": [
  {
   "cell_type": "code",
   "execution_count": 101,
   "metadata": {
    "vscode": {
     "languageId": "r"
    }
   },
   "outputs": [],
   "source": [
    "# Import packages\n",
    "library(readr)\n",
    "library(plyr)\n",
    "library(ipred)\n",
    "library(caret)\n",
    "library(caTools)\n",
    "library(randomForest)\n",
    "library(ROSE)"
   ]
  },
  {
   "cell_type": "code",
   "execution_count": 102,
   "metadata": {
    "vscode": {
     "languageId": "r"
    }
   },
   "outputs": [],
   "source": [
    "# Read in data\n",
    "data <- read.csv(\"process.csv\")"
   ]
  },
  {
   "cell_type": "code",
   "execution_count": 103,
   "metadata": {
    "vscode": {
     "languageId": "r"
    }
   },
   "outputs": [],
   "source": [
    "# Process the data by setting the first 14 columns as [features] and the last column as the [label] # nolint: line_length_linter.\n",
    "features <- data[, 1:14]\n",
    "label <- data[, 15]"
   ]
  },
  {
   "cell_type": "code",
   "execution_count": 104,
   "metadata": {
    "vscode": {
     "languageId": "r"
    }
   },
   "outputs": [],
   "source": [
    "# Split the dataset into training and testing sets\n",
    "set.seed(42)\n",
    "split <- sample.split(label, SplitRatio = 0.7)\n",
    "features_train = features[split,]  # nolint\n",
    "features_test = features[!split,]  # nolint\n",
    "label_train = label[split]  # nolint\n",
    "label_test = label[!split]  # nolint"
   ]
  },
  {
   "cell_type": "code",
   "execution_count": 105,
   "metadata": {
    "vscode": {
     "languageId": "r"
    }
   },
   "outputs": [],
   "source": [
    "# Combine the training datasets\n",
    "data_train <- features_train\n",
    "data_train$label <- label_train\n",
    "class_counts <- table(data_train$label)"
   ]
  },
  {
   "cell_type": "code",
   "execution_count": 106,
   "metadata": {
    "vscode": {
     "languageId": "r"
    }
   },
   "outputs": [
    {
     "name": "stdout",
     "output_type": "stream",
     "text": [
      "[1] \"( Before )Data Category Counts:  490\"\n",
      "[2] \"( Before )Data Category Counts:  148\"\n",
      "[3] \"( Before )Data Category Counts:  23\" \n"
     ]
    }
   ],
   "source": [
    "# Print the initial number of each category\n",
    "class_counts <- table(data_train$label)\n",
    "print(paste(\"( Before )Data Category Counts: \", class_counts))"
   ]
  },
  {
   "cell_type": "code",
   "execution_count": 107,
   "metadata": {
    "vscode": {
     "languageId": "r"
    }
   },
   "outputs": [
    {
     "name": "stdout",
     "output_type": "stream",
     "text": [
      "( After )Data Category Counts:\n",
      "\n",
      "  1   2   3 \n",
      "490 490 490 \n"
     ]
    }
   ],
   "source": [
    "# Handle class imbalance\n",
    "# Process classes A and B\n",
    "data_train_AB <- data_train  # nolint\n",
    "data_train_AB <- data_train_AB[data_train_AB$label != '3',]  # nolint\n",
    "data_train_AB_resampled <- ovun.sample(label ~ ., data = data_train_AB, method = \"over\", N = 980, seed = 1)$data  # nolint\n",
    "\n",
    "# Process classes A and C\n",
    "data_train_AC <- data_train  # nolint\n",
    "data_train_AC <- data_train_AC[data_train_AC$label != '2',]  # nolint\n",
    "data_train_AC_resampled <- ovun.sample(label ~ ., data = data_train_AC, method = \"over\", N = 980, seed = 1)$data  # nolint\n",
    "\n",
    "# Retain records in data_train_AB_resampled where the label is '2'\n",
    "data_train_AB_2 <- data_train_AB_resampled[data_train_AB_resampled$label == '2',]  # nolint\n",
    "\n",
    "# Retain records in data_train_AC_resampled where the label is '3'\n",
    "data_train_AC_3 <- data_train_AC_resampled[data_train_AC_resampled$label == '3',]  # nolint\n",
    "\n",
    "# Retain records in both data_train_AB_resampled and data_train_AC_resampled where the label is '1' # nolint: line_length_linter.\n",
    "data_train_1 <- data_train_AB_resampled[data_train_AB_resampled$label == '1',]  # nolint\n",
    "\n",
    "# combine\n",
    "data_train_combined <- rbind(data_train_1, data_train_AB_2, data_train_AC_3)\n",
    "\n",
    "# Print the number of each category after class imbalance handling\n",
    "cat(\"( After )Data Category Counts:\\n\")\n",
    "print(table(data_train_combined$label))"
   ]
  },
  {
   "cell_type": "code",
   "execution_count": 108,
   "metadata": {
    "vscode": {
     "languageId": "r"
    }
   },
   "outputs": [],
   "source": [
    "# Divide the features and label, and apply different normalization to the training and testing sets # nolint: line_length_linter.\n",
    "features_train <- data_train_combined[, 1:14]\n",
    "label <- data_train_combined[, 15]"
   ]
  },
  {
   "cell_type": "code",
   "execution_count": 109,
   "metadata": {
    "vscode": {
     "languageId": "r"
    }
   },
   "outputs": [],
   "source": [
    "# Apply Min-Max normalization to features_train and features_test\n",
    "features_train <- as.data.frame(lapply(features_train, function(x) {(x-min(x))/(max(x)-min(x))}))  # nolint\n",
    "features_test <- as.data.frame(lapply(features_test, function(x) {(x-min(x))/(max(x)-min(x))}))  # nolint\n",
    "\n",
    "# Apply Min-Max normalization to features_train and features_test\n",
    "features_train_1 <- as.data.frame(lapply(features_train, function(x) {(x-min(x))/(max(x)-min(x))}))  # nolint\n",
    "features_test_1 <- as.data.frame(lapply(features_test, function(x) {(x-min(x))/(max(x)-min(x))}))  # nolint\n",
    "\n",
    "# Apply Z-Score normalization to each column of features_train\n",
    "features_train_2 <- as.data.frame(lapply(features_train, function(x) {(x - mean(x))/sd(x)}))  # nolint\n",
    "\n",
    "#features_test <- as.data.frame(mapply(function(x, y) {(x - mean(y))/sd(y)}, features_test, features_train, SIMPLIFY = FALSE))  # nolint\n",
    "features_test_2 <- as.data.frame(lapply(features_test, function(x) {(x - mean(x))/sd(x)}))  # nolint\n",
    "\n",
    "# Apply Max Absolute Value normalization to the training set\n",
    "features_train_3 <- as.data.frame(lapply(features_train, function(x) {x / max(abs(x))}))  # nolint\n",
    "features_test_3 <- as.data.frame(lapply(features_test, function(x) {x / max(abs(x))}))  # nolint\n",
    "\n",
    "# Apply L1 norm normalization to the training set\n",
    "features_train_4 <- as.data.frame(lapply(features_train, function(x) {x / sum(abs(x))}))  # nolint\n",
    "features_test_4 <- as.data.frame(lapply(features_test, function(x) {x / sum(abs(x))}))  # nolint\n",
    "\n",
    "# Apply L2 norm normalization to the training set\n",
    "features_train_5 <- as.data.frame(lapply(features_train, function(x) {x / sqrt(sum(x^2))}))  # nolint\n",
    "features_test_5 <- as.data.frame(lapply(features_test, function(x) {x / sqrt(sum(x^2))}))  # nolint"
   ]
  },
  {
   "cell_type": "code",
   "execution_count": 110,
   "metadata": {
    "vscode": {
     "languageId": "r"
    }
   },
   "outputs": [],
   "source": [
    "# Training dataset after Min-Max normalization\n",
    "data_train <- features_train\n",
    "data_train$label <- label\n",
    "class_counts <- table(data_train$label)\n",
    "#print(class_counts)  # nolint\n",
    "\n",
    "# Training dataset after Min-Max normalization\n",
    "data_train_1 <- features_train_1\n",
    "data_train_1$label <- label\n",
    "class_counts_1 <- table(data_train_1$label)\n",
    "#print(class_counts_1)  # nolint\n",
    "\n",
    "# Training dataset after Z-Score normalization\n",
    "data_train_2 <- features_train_2\n",
    "data_train_2$label <- label\n",
    "class_counts_2 <- table(data_train_2$label)\n",
    "#print(class_counts_2)  # nolint\n",
    "\n",
    "# Training dataset after Max Absolute Value normalization\n",
    "data_train_3 <- features_train_3\n",
    "data_train_3$label <- label\n",
    "class_counts_3 <- table(data_train_3$label)\n",
    "#print(class_counts_3)  # nolint\n",
    "\n",
    "# Training dataset after L1 norm normalization\n",
    "data_train_4 <- features_train_4\n",
    "data_train_4$label <- label\n",
    "class_counts_4 <- table(data_train_4$label)\n",
    "#print(class_counts_4)  # nolint\n",
    "\n",
    "# Training dataset after L2 norm normalization\n",
    "data_train_5 <- features_train_5\n",
    "data_train_5$label <- label\n",
    "class_counts_5 <- table(data_train_5$label)\n",
    "#print(class_counts_5)  # nolint"
   ]
  },
  {
   "cell_type": "code",
   "execution_count": 111,
   "metadata": {
    "vscode": {
     "languageId": "r"
    }
   },
   "outputs": [
    {
     "name": "stdout",
     "output_type": "stream",
     "text": [
      "[1] \"Accuracy of Min-Max Normalization: 0.929328621908127\"\n",
      "[1] \"Recall : 0.871428571428571\"\n",
      "[1] \"Precision : 0.893793535898799\"\n",
      "[1] \"F1 : 0.882469374145375\"\n"
     ]
    }
   ],
   "source": [
    "model_1 <- randomForest(x = data_train_1[-ncol(data_train_combined)], y = as.factor(data_train_1$label), ntree = 2)  # nolint\n",
    "variable_importance_1 = importance(model_1)  # nolint\n",
    "pred_comb_1 <- predict(model_1, features_test_1)\n",
    "\n",
    "# Calculate and print the accuracy of the test set\n",
    "accuracy_1 <- sum(label_test == pred_comb_1) / length(label_test)\n",
    "print(paste('Accuracy of Min-Max Normalization:', accuracy_1))  # nolint\n",
    "\n",
    "# Convert to a categorical variable\n",
    "label_test_factor <- as.factor(label_test)\n",
    "pred_comb_1_factor <- as.factor(pred_comb_1)\n",
    "\n",
    "# Obtain the confusion matrix\n",
    "cm <- confusionMatrix(pred_comb_1_factor, label_test_factor)\n",
    "\n",
    "# Calculate the average recall rate (Sensitivity)\n",
    "recall <- mean(c(cm$byClass[\"Class: 1\", \"Sensitivity\"], cm$byClass[\"Class: 2\", \"Sensitivity\"], cm$byClass[\"Class: 3\", \"Sensitivity\"]))  # nolint\n",
    "\n",
    "# Calculate the average precision rate (Positive Predictive Value)\n",
    "precision <- mean(c(cm$byClass[\"Class: 1\", \"Pos Pred Value\"], cm$byClass[\"Class: 2\", \"Pos Pred Value\"], cm$byClass[\"Class: 3\", \"Pos Pred Value\"]))  # nolint\n",
    "F1 = 2 * recall * precision / ( recall + precision )  # nolint\n",
    "\n",
    "# print results\n",
    "print(paste('Recall :', recall))  # nolint\n",
    "print(paste('Precision :', precision))  # nolint\n",
    "print(paste('F1 :', F1))  # nolint"
   ]
  },
  {
   "cell_type": "code",
   "execution_count": 112,
   "metadata": {
    "vscode": {
     "languageId": "r"
    }
   },
   "outputs": [
    {
     "name": "stdout",
     "output_type": "stream",
     "text": [
      "[1] \"Z-Score Normalization Accuracy: 0.328621908127208\"\n",
      "[1] \"Recall : 0.484656084656085\"\n",
      "[1] \"Precision : 0.368749858324833\"\n",
      "[1] \"F1 : 0.418832008431878\"\n"
     ]
    }
   ],
   "source": [
    "model_2 <- randomForest(x = data_train_2[-ncol(data_train_combined)], y = as.factor(data_train_2$label), ntree = 2) # nolint\n",
    "variable_importance_2 = importance(model_2) # nolint\n",
    "pred_comb_2 <- predict(model_2, features_test_2)\n",
    "\n",
    "# Calculate and print the accuracy of the test set\n",
    "accuracy_2 <- sum(label_test == pred_comb_2) / length(label_test)\n",
    "print(paste('Z-Score Normalization Accuracy:', accuracy_2)) # nolint\n",
    "\n",
    "# Convert to a factor\n",
    "label_test_factor <- as.factor(label_test)\n",
    "pred_comb_1_factor <- as.factor(pred_comb_2)\n",
    "\n",
    "# Obtain the confusion matrix\n",
    "cm <- confusionMatrix(pred_comb_1_factor, label_test_factor)\n",
    "\n",
    "# Calculate the average recall rate (Sensitivity)\n",
    "recall <- mean(c(cm$byClass[\"Class: 1\", \"Sensitivity\"],  # nolint\n",
    "                              cm$byClass[\"Class: 2\", \"Sensitivity\"],  # nolint\n",
    "                              cm$byClass[\"Class: 3\", \"Sensitivity\"]))\n",
    "\n",
    "# Calculate the average precision rate (Positive Predictive Value)\n",
    "precision <- mean(c(cm$byClass[\"Class: 1\", \"Pos Pred Value\"], # nolint \n",
    "                            cm$byClass[\"Class: 2\", \"Pos Pred Value\"], # nolint \n",
    "                            cm$byClass[\"Class: 3\", \"Pos Pred Value\"]))\n",
    "F1 = 2 * recall * precision / ( recall + precision ) # nolint\n",
    "\n",
    "# print results\n",
    "print(paste('Recall :', recall))  # nolint\n",
    "print(paste('Precision :', precision))  # nolint\n",
    "print(paste('F1 :', F1))  # nolint"
   ]
  },
  {
   "cell_type": "code",
   "execution_count": 113,
   "metadata": {
    "vscode": {
     "languageId": "r"
    }
   },
   "outputs": [
    {
     "name": "stdout",
     "output_type": "stream",
     "text": [
      "[1] \"Accuracy of Max absolute value normalization: 0.886925795053004\"\n"
     ]
    },
    {
     "name": "stdout",
     "output_type": "stream",
     "text": [
      "[1] \"Recall : 0.798412698412698\"\n",
      "[1] \"Precision : 0.798412698412699\"\n",
      "[1] \"F1 : 0.798412698412698\"\n"
     ]
    }
   ],
   "source": [
    "model_3 <- randomForest(x = data_train_3[-ncol(data_train_combined)], y = as.factor(data_train_3$label), ntree = 2) # nolint\n",
    "variable_importance_3 = importance(model_3) # nolint\n",
    "pred_comb_3 <- predict(model_3, features_test_3)\n",
    "\n",
    "# Calculate and print the accuracy of the test set\n",
    "accuracy_3 <- sum(label_test == pred_comb_3) / length(label_test)\n",
    "print(paste('Accuracy of Max absolute value normalization:', accuracy_3)) # nolint\n",
    "\n",
    "# Convert to a factor\n",
    "label_test_factor <- as.factor(label_test)\n",
    "pred_comb_1_factor <- as.factor(pred_comb_3)\n",
    "\n",
    "# Obtain the confusion matrix\n",
    "cm <- confusionMatrix(pred_comb_1_factor, label_test_factor)\n",
    "\n",
    "# Calculate the average recall rate (Sensitivity)\n",
    "recall <- mean(c(cm$byClass[\"Class: 1\", \"Sensitivity\"], # nolint\n",
    "                              cm$byClass[\"Class: 2\", \"Sensitivity\"], # nolint\n",
    "                              cm$byClass[\"Class: 3\", \"Sensitivity\"]))\n",
    "\n",
    "# Calculate the average precision rate (Positive Predictive Value)\n",
    "precision <- mean(c(cm$byClass[\"Class: 1\", \"Pos Pred Value\"], # nolint\n",
    "                            cm$byClass[\"Class: 2\", \"Pos Pred Value\"], # nolint\n",
    "                            cm$byClass[\"Class: 3\", \"Pos Pred Value\"]))\n",
    "F1 = 2 * recall * precision / ( recall + precision ) # nolint\n",
    "\n",
    "# print results\n",
    "print(paste('Recall :', recall)) # nolint\n",
    "print(paste('Precision :', precision)) # nolint\n",
    "print(paste('F1 :', F1)) # nolint"
   ]
  },
  {
   "cell_type": "code",
   "execution_count": 114,
   "metadata": {
    "vscode": {
     "languageId": "r"
    }
   },
   "outputs": [
    {
     "name": "stdout",
     "output_type": "stream",
     "text": [
      "[1] \"Accuracy of L1 norm normalization: 0.763250883392226\"\n"
     ]
    },
    {
     "name": "stdout",
     "output_type": "stream",
     "text": [
      "[1] \"Recall : 0.585185185185185\"\n",
      "[1] \"Precision : 0.597558658687185\"\n",
      "[1] \"F1 : 0.591307198349883\"\n"
     ]
    }
   ],
   "source": [
    "model_4 <- randomForest(x = data_train_4[-ncol(data_train_combined)], y = as.factor(data_train_4$label), ntree = 2)  # nolint\n",
    "variable_importance_4 = importance(model_4) # nolint\n",
    "pred_comb_4 <- predict(model_4, features_test_4)\n",
    "\n",
    "# Calculate and print the accuracy of the test set\n",
    "accuracy_4 <- sum(label_test == pred_comb_4) / length(label_test)\n",
    "print(paste('Accuracy of L1 norm normalization:', accuracy_4)) # nolint\n",
    "\n",
    "# Convert to a factor\n",
    "label_test_factor <- as.factor(label_test)\n",
    "pred_comb_1_factor <- as.factor(pred_comb_4)\n",
    "\n",
    "# Obtain the confusion matrix\n",
    "cm <- confusionMatrix(pred_comb_1_factor, label_test_factor)\n",
    "\n",
    "# Calculate the average recall（Sensitivity）\n",
    "recall <- mean(c(cm$byClass[\"Class: 1\", \"Sensitivity\"], # nolint\n",
    "                              cm$byClass[\"Class: 2\", \"Sensitivity\"], # nolint\n",
    "                              cm$byClass[\"Class: 3\", \"Sensitivity\"]))\n",
    "\n",
    "# Calculate the average precision（Pos Pred Value）\n",
    "precision <- mean(c(cm$byClass[\"Class: 1\", \"Pos Pred Value\"], # nolint\n",
    "                            cm$byClass[\"Class: 2\", \"Pos Pred Value\"], # nolint\n",
    "                            cm$byClass[\"Class: 3\", \"Pos Pred Value\"]))\n",
    "F1 = 2 * recall * precision / ( recall + precision ) # nolint\n",
    "\n",
    "# print results\n",
    "print(paste('Recall :', recall)) # nolint\n",
    "print(paste('Precision :', precision)) # nolint\n",
    "print(paste('F1 :', F1)) # nolint"
   ]
  },
  {
   "cell_type": "code",
   "execution_count": 115,
   "metadata": {
    "vscode": {
     "languageId": "r"
    }
   },
   "outputs": [
    {
     "name": "stdout",
     "output_type": "stream",
     "text": [
      "[1] \"Accuracy of L2 norm normalization: 0.724381625441696\"\n",
      "[1] \"Recall : 0.614285714285714\"\n",
      "[1] \"Precision : 0.517725766027973\"\n",
      "[1] \"F1 : 0.56188748527618\"\n"
     ]
    }
   ],
   "source": [
    "model_5 <- randomForest(x = data_train_5[-ncol(data_train_combined)], y = as.factor(data_train_5$label), ntree = 2) # nolint\n",
    "variable_importance_5 = importance(model_5) # nolint\n",
    "pred_comb_5 <- predict(model_5, features_test_5)\n",
    "\n",
    "# Calculate and print the accuracy of the test set\n",
    "accuracy_5 <- sum(label_test == pred_comb_5) / length(label_test)\n",
    "print(paste('Accuracy of L2 norm normalization:', accuracy_5)) # nolint\n",
    "\n",
    "# Convert to a factor\n",
    "label_test_factor <- as.factor(label_test)\n",
    "pred_comb_1_factor <- as.factor(pred_comb_5)\n",
    "\n",
    "# Obtain the confusion matrix\n",
    "cm <- confusionMatrix(pred_comb_1_factor, label_test_factor)\n",
    "\n",
    "# Calculate the average recall（Sensitivity）\n",
    "recall <- mean(c(cm$byClass[\"Class: 1\", \"Sensitivity\"], # nolint\n",
    "                              cm$byClass[\"Class: 2\", \"Sensitivity\"], # nolint\n",
    "                              cm$byClass[\"Class: 3\", \"Sensitivity\"]))\n",
    "\n",
    "# Calculate the average precision（Pos Pred Value）\n",
    "precision <- mean(c(cm$byClass[\"Class: 1\", \"Pos Pred Value\"], # nolint\n",
    "                            cm$byClass[\"Class: 2\", \"Pos Pred Value\"], # nolint\n",
    "                            cm$byClass[\"Class: 3\", \"Pos Pred Value\"]))\n",
    "F1 = 2 * recall * precision / ( recall + precision ) # nolint\n",
    "\n",
    "# print results\n",
    "print(paste('Recall :', recall)) # nolint\n",
    "print(paste('Precision :', precision)) # nolint\n",
    "print(paste('F1 :', F1)) # nolint"
   ]
  },
  {
   "cell_type": "code",
   "execution_count": 116,
   "metadata": {
    "vscode": {
     "languageId": "r"
    }
   },
   "outputs": [
    {
     "name": "stdout",
     "output_type": "stream",
     "text": [
      "                    MeanDecreaseGini\n",
      "GenSpec                    29.703153\n",
      "LF                          2.937468\n",
      "GF                         16.170843\n",
      "Fam                        47.254084\n",
      "Biomes                     81.827397\n",
      "Status                    400.625595\n",
      "Range                     291.161674\n",
      "Habitat_degradation        16.889857\n",
      "Habitat_loss               40.730262\n",
      "IAS                         8.648279\n",
      "Other                       3.254064\n",
      "Over_exploitation           4.621536\n",
      "Pollution                   2.145126\n",
      "Unknown                     8.869024\n",
      "[1] \"Accuracy of Voting method: 0.88339222614841\"\n",
      "[1] \"Recall : 0.752380952380952\"\n",
      "[1] \"Precision : 0.925706214689266\"\n",
      "[1] \"F1 : 0.830092425590586\"\n"
     ]
    }
   ],
   "source": [
    "# Obtain the number of predicted results\n",
    "n <- length(pred_comb_1)\n",
    "\n",
    "# Initialize an empty vector to store the final prediction results\n",
    "final_pred <- rep(NA, n)\n",
    "\n",
    "# Iterate over each test sample\n",
    "for(i in 1:n) { # nolint\n",
    "   # Get the prediction results of the five models for the i-th sample # nolint\n",
    "   preds <- c(pred_comb_1[i], pred_comb_2[i], pred_comb_3[i], pred_comb_4[i], pred_comb_5[i]) # nolint\n",
    "\n",
    "   # Select the most frequently predicted class as the final prediction result for the i-th sample # nolint\n",
    "   final_pred[i] <- as.numeric(names(which.max(table(preds))))\n",
    "}\n",
    "\n",
    "\n",
    "importances_list <- list(variable_importance_1, variable_importance_2, variable_importance_3, variable_importance_4, variable_importance_5) # nolint\n",
    "average_importance <- Reduce(\"+\", importances_list) / length(importances_list)\n",
    "print(average_importance)\n",
    "\n",
    "\n",
    "# Now final_pred contains the prediction results after voting\n",
    "# Calculate and print the accuracy\n",
    "accuracy <- sum(label_test == final_pred) / length(label_test)\n",
    "print(paste('Accuracy of Voting method:', accuracy)) # nolint\n",
    "\n",
    "# Convert to a factor type\n",
    "final_pred_factor <- as.factor(final_pred)\n",
    "label_test_factor <- as.factor(label_test)\n",
    "\n",
    "# Obtain the confusion matrix\n",
    "cm_vote <- confusionMatrix(final_pred_factor, label_test_factor)\n",
    "\n",
    "# Calculate the recall (Sensitivity) for each category\n",
    "sensitivity_class1 <- cm_vote$byClass[\"Class: 1\", \"Sensitivity\"]\n",
    "sensitivity_class2 <- cm_vote$byClass[\"Class: 2\", \"Sensitivity\"]\n",
    "sensitivity_class3 <- cm_vote$byClass[\"Class: 3\", \"Sensitivity\"]\n",
    "recall = (sensitivity_class1 + sensitivity_class2 + sensitivity_class3) / 3 # nolint\n",
    "print(paste('Recall :', recall)) # nolint\n",
    "\n",
    "# Calculate the precision for each category\n",
    "precision_class1 <- cm_vote$byClass[\"Class: 1\", \"Pos Pred Value\"]\n",
    "precision_class2 <- cm_vote$byClass[\"Class: 2\", \"Pos Pred Value\"]\n",
    "precision_class3 <- cm_vote$byClass[\"Class: 3\", \"Pos Pred Value\"]\n",
    "precision = (precision_class1 + precision_class2 + precision_class3) / 3 # nolint\n",
    "print(paste('Precision :', precision)) # nolint\n",
    "\n",
    "F1 = 2 * recall * precision / ( recall + precision ) # nolint\n",
    "print(paste('F1 :', F1)) # nolint"
   ]
  }
 ],
 "metadata": {
  "kernelspec": {
   "display_name": "R",
   "language": "R",
   "name": "ir"
  },
  "language_info": {
   "codemirror_mode": "r",
   "file_extension": ".r",
   "mimetype": "text/x-r-source",
   "name": "R",
   "pygments_lexer": "r",
   "version": "4.3.2"
  }
 },
 "nbformat": 4,
 "nbformat_minor": 2
}
